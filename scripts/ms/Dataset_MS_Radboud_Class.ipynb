{
 "cells": [
  {
   "cell_type": "code",
   "execution_count": 1,
   "metadata": {},
   "outputs": [
    {
     "name": "stderr",
     "output_type": "stream",
     "text": [
      "/home/malyshevvalery/.pyenv/versions/3.7.7/envs/imagedl/lib/python3.7/site-packages/pandas/compat/__init__.py:117: UserWarning: Could not import the lzma module. Your installed Python is incomplete. Attempting to use lzma compression will result in a RuntimeError.\n",
      "  warnings.warn(msg)\n"
     ]
    }
   ],
   "source": [
    "import os\n",
    "import glob\n",
    "from tqdm import tqdm\n",
    "import shutil\n",
    "from pathlib import Path\n",
    "from openslide import OpenSlide\n",
    "import pandas as pd\n",
    "import numpy as np\n",
    "import matplotlib.pyplot as plt\n",
    "from skimage.measure import block_reduce\n",
    "import cv2.cv2 as cv2"
   ]
  },
  {
   "cell_type": "code",
   "execution_count": 2,
   "metadata": {},
   "outputs": [],
   "source": [
    "INPUT_DIR = Path('/hdd_barracuda2/PANDA/PANDA_raw')\n",
    "IMG_DIR = INPUT_DIR / 'train_images'\n",
    "MASK_DIR = INPUT_DIR / 'train_label_masks'\n",
    "\n",
    "df = pd.read_csv(INPUT_DIR / 'train.csv')\n",
    "suspicious = pd.read_csv('/hdd_barracuda2/PANDA/PANDA_Suspicious_Slides.csv')"
   ]
  },
  {
   "cell_type": "code",
   "execution_count": 3,
   "metadata": {},
   "outputs": [
    {
     "data": {
      "text/html": [
       "<div>\n",
       "<style scoped>\n",
       "    .dataframe tbody tr th:only-of-type {\n",
       "        vertical-align: middle;\n",
       "    }\n",
       "\n",
       "    .dataframe tbody tr th {\n",
       "        vertical-align: top;\n",
       "    }\n",
       "\n",
       "    .dataframe thead th {\n",
       "        text-align: right;\n",
       "    }\n",
       "</style>\n",
       "<table border=\"1\" class=\"dataframe\">\n",
       "  <thead>\n",
       "    <tr style=\"text-align: right;\">\n",
       "      <th></th>\n",
       "      <th>image_id</th>\n",
       "      <th>data_provider</th>\n",
       "      <th>isup_grade</th>\n",
       "      <th>gleason_score</th>\n",
       "      <th>gleason1</th>\n",
       "      <th>gleason2</th>\n",
       "    </tr>\n",
       "  </thead>\n",
       "  <tbody>\n",
       "    <tr>\n",
       "      <th>0</th>\n",
       "      <td>0005f7aaab2800f6170c399693a96917</td>\n",
       "      <td>karolinska</td>\n",
       "      <td>0</td>\n",
       "      <td>0+0</td>\n",
       "      <td>0</td>\n",
       "      <td>0</td>\n",
       "    </tr>\n",
       "    <tr>\n",
       "      <th>1</th>\n",
       "      <td>000920ad0b612851f8e01bcc880d9b3d</td>\n",
       "      <td>karolinska</td>\n",
       "      <td>0</td>\n",
       "      <td>0+0</td>\n",
       "      <td>0</td>\n",
       "      <td>0</td>\n",
       "    </tr>\n",
       "    <tr>\n",
       "      <th>2</th>\n",
       "      <td>0018ae58b01bdadc8e347995b69f99aa</td>\n",
       "      <td>radboud</td>\n",
       "      <td>4</td>\n",
       "      <td>4+4</td>\n",
       "      <td>4</td>\n",
       "      <td>4</td>\n",
       "    </tr>\n",
       "    <tr>\n",
       "      <th>3</th>\n",
       "      <td>001c62abd11fa4b57bf7a6c603a11bb9</td>\n",
       "      <td>karolinska</td>\n",
       "      <td>4</td>\n",
       "      <td>4+4</td>\n",
       "      <td>4</td>\n",
       "      <td>4</td>\n",
       "    </tr>\n",
       "    <tr>\n",
       "      <th>4</th>\n",
       "      <td>001d865e65ef5d2579c190a0e0350d8f</td>\n",
       "      <td>karolinska</td>\n",
       "      <td>0</td>\n",
       "      <td>0+0</td>\n",
       "      <td>0</td>\n",
       "      <td>0</td>\n",
       "    </tr>\n",
       "  </tbody>\n",
       "</table>\n",
       "</div>"
      ],
      "text/plain": [
       "                           image_id data_provider  isup_grade gleason_score  \\\n",
       "0  0005f7aaab2800f6170c399693a96917    karolinska           0           0+0   \n",
       "1  000920ad0b612851f8e01bcc880d9b3d    karolinska           0           0+0   \n",
       "2  0018ae58b01bdadc8e347995b69f99aa       radboud           4           4+4   \n",
       "3  001c62abd11fa4b57bf7a6c603a11bb9    karolinska           4           4+4   \n",
       "4  001d865e65ef5d2579c190a0e0350d8f    karolinska           0           0+0   \n",
       "\n",
       "   gleason1  gleason2  \n",
       "0         0         0  \n",
       "1         0         0  \n",
       "2         4         4  \n",
       "3         4         4  \n",
       "4         0         0  "
      ]
     },
     "execution_count": 3,
     "metadata": {},
     "output_type": "execute_result"
    }
   ],
   "source": [
    "df = df.loc[~df['image_id'].isin(suspicious['image_id'])]\n",
    "df.loc[df['gleason_score'] == 'negative','gleason_score'] = '0+0'\n",
    "df['gleason1'] = df['gleason_score'].str[0].astype(int)\n",
    "df['gleason2'] = df['gleason_score'].str[2].astype(int)\n",
    "df.head()"
   ]
  },
  {
   "cell_type": "code",
   "execution_count": 4,
   "metadata": {},
   "outputs": [],
   "source": [
    "LEVEL = 0\n",
    "TILE_SIZE = 256\n",
    "STEP = 128\n",
    "\n",
    "OUT_DIR = Path(f'Class_LVL{LEVEL}_{TILE_SIZE}_rad_panda')\n",
    "OUT_DIR.mkdir(exist_ok=True)"
   ]
  },
  {
   "cell_type": "code",
   "execution_count": 5,
   "metadata": {},
   "outputs": [],
   "source": [
    "# Rolling 2D window for ND array\n",
    "def roll(a, sz, step):  # vertical step, ordinate, number of rows\n",
    "    shape = ((a.shape[0] - sz) // step + 1, \n",
    "             (a.shape[1] - sz) // step + 1,\n",
    "             sz, sz)\n",
    "    strides = (a.strides[0] * step, a.strides[1] * step) + a.strides[-2:]\n",
    "    return np.lib.stride_tricks.as_strided(a, shape=shape, strides=strides)"
   ]
  },
  {
   "cell_type": "markdown",
   "metadata": {},
   "source": [
    "# Radboud"
   ]
  },
  {
   "cell_type": "code",
   "execution_count": 6,
   "metadata": {
    "scrolled": true
   },
   "outputs": [
    {
     "name": "stdout",
     "output_type": "stream",
     "text": [
      "(3584, 6)\n"
     ]
    }
   ],
   "source": [
    "df_rad = df[df['data_provider'] == 'radboud']\n",
    "df_rad = df_rad[df_rad['isup_grade'] > 0]\n",
    "print(df_rad.shape)\n",
    "OUT_DIR.mkdir(exist_ok = True)"
   ]
  },
  {
   "cell_type": "code",
   "execution_count": 10,
   "metadata": {
    "collapsed": true
   },
   "outputs": [
    {
     "name": "stderr",
     "output_type": "stream",
     "text": [
      "\r",
      "  0%|          | 0/3584 [00:00<?, ?it/s]"
     ]
    },
    {
     "name": "stdout",
     "output_type": "stream",
     "text": [
      "[1 2] [0.89949036 0.06134033]\n",
      "[1 2]\n",
      "[1 2] [0.96176147 0.03807068]\n",
      "[1]\n",
      "[1 2] [0.95898438 0.04101562]\n",
      "[1]\n",
      "[1 2] [0.96717834 0.03262329]\n",
      "[1]\n",
      "[1 2] [0.96713257 0.03286743]\n",
      "[1]\n",
      "[1 2] [0.97335815 0.02412415]\n",
      "[1]\n",
      "[1 2 4] [0.86991882 0.00289917 0.12290955]\n",
      "[1 4]\n",
      "[1 4] [0.62571716 0.37249756]\n",
      "[1 4]\n",
      "[1 4] [0.49977112 0.49993896]\n",
      "[1 4]\n",
      "[1 4] [0.49227905 0.45489502]\n",
      "[1 4]\n",
      "[1 4] [0.45999146 0.48666382]\n",
      "[1 4]\n",
      "[1 4] [0.49806213 0.49916077]\n",
      "[1 4]\n",
      "[1 4] [0.43666077 0.56333923]\n",
      "[1 4]\n",
      "[1 4] [0.43162537 0.56837463]\n",
      "[1 4]\n",
      "[1 4] [0.47038269 0.52961731]\n",
      "[1 4]\n",
      "[1 4] [0.56645203 0.43354797]\n",
      "[1 4]\n",
      "[1 4] [0.70239258 0.18838501]\n",
      "[1 4]\n",
      "[1 4] [0.54127502 0.28684998]\n",
      "[1 4]\n",
      "[1 4] [0.70611572 0.29388428]\n",
      "[1 4]\n",
      "[1 4] [0.58305359 0.30882263]\n",
      "[1 4]\n",
      "[1 4] [0.6618042 0.3381958]\n",
      "[1 4]\n",
      "[1 4] [0.46633911 0.50032043]\n",
      "[1 4]\n",
      "[1 4] [0.53242493 0.46524048]\n",
      "[1 4]\n",
      "[1 4] [0.40765381 0.59135437]\n",
      "[1 4]\n",
      "[1 4] [0.503479   0.46124268]\n",
      "[1 4]\n",
      "[1 4] [0.39901733 0.60098267]\n",
      "[1 4]\n",
      "[1 4] [0.498703   0.40238953]\n",
      "[1 4]\n",
      "[1 4] [0.42182922 0.57817078]\n",
      "[1 4]\n",
      "[1 4] [0.49234009 0.38452148]\n",
      "[1 4]\n",
      "[1 4] [0.47331238 0.49388123]\n",
      "[1 4]\n",
      "[1 4] [0.50415039 0.34632874]\n",
      "[1 4]\n",
      "[1 4] [0.50202942 0.34362793]\n",
      "[1 4]\n",
      "[1 4] [0.50914001 0.40304565]\n",
      "[1 4]\n",
      "[1 4] [0.61532593 0.2829895 ]\n",
      "[1 4]\n",
      "[1 4] [0.71690369 0.18656921]\n",
      "[1 4]\n",
      "[1 4] [0.66122437 0.20854187]\n",
      "[1 4]\n",
      "[1 4] [0.56796265 0.2815094 ]\n",
      "[1 4]\n",
      "[1 4] [0.6036377  0.26139832]\n",
      "[1 4]\n",
      "[1 4] [0.74871826 0.16854858]\n",
      "[1 4]\n",
      "[1 2 4] [0.87901306 0.01622009 0.01420593]\n",
      "[1]\n",
      "[1 2 4] [9.06723022e-01 3.35693359e-04 2.04467773e-03]\n",
      "[1]\n",
      "[1 4] [0.87797546 0.00283813]\n",
      "[1]\n",
      "[1 2 4] [9.57901001e-01 2.01416016e-03 7.93457031e-04]\n",
      "[1]\n",
      "[1 2] [0.99249268 0.00201416]\n",
      "[1]\n",
      "[1 2] [0.92349243 0.02787781]\n",
      "[1]\n"
     ]
    },
    {
     "name": "stderr",
     "output_type": "stream",
     "text": [
      "  0%|          | 0/3584 [00:00<?, ?it/s]\n"
     ]
    }
   ],
   "source": [
    "counters = np.zeros(5)\n",
    "for i, row in tqdm(df_rad.iterrows(), total=len(df_rad)):\n",
    "    image_id = row['image_id']\n",
    "    slide = OpenSlide(str(IMG_DIR / (image_id + '.tiff')))\n",
    "    mask = OpenSlide(str(MASK_DIR / (image_id + '_mask.tiff')))\n",
    "    dim = mask.level_dimensions[LEVEL] # x y\n",
    "    ds = int(mask.level_downsamples[LEVEL])\n",
    "    n_tiles = (\n",
    "        (dim[0] + STEP - TILE_SIZE) // STEP,\n",
    "        (dim[1] + STEP - TILE_SIZE) // STEP\n",
    "    )\n",
    "    \n",
    "    ts_l = int(TILE_SIZE * ds / mask.level_downsamples[2])\n",
    "    st_l = int(STEP * ds / mask.level_downsamples[2])\n",
    "    mask_thumb = np.array(mask.read_region((0,0),2,mask.level_dimensions[2]))[...,0]\n",
    "    \n",
    "    excluded = roll(mask_thumb == 0,ts_l, st_l).mean(axis=(2,3))\n",
    "    rows, cols = np.where(excluded < 0.3)\n",
    "    for rr,cc in zip(rows, cols):\n",
    "        x = cc * STEP * ds\n",
    "        y = rr * STEP * ds\n",
    "        tile = np.array(slide.read_region((x,y), LEVEL, (TILE_SIZE, TILE_SIZE)))[...,:3]\n",
    "        mask_tile = np.array(mask.read_region((x,y), LEVEL, (TILE_SIZE, TILE_SIZE)))[...,0]\n",
    "        white_dist = np.sqrt(((1 - tile / 255) ** 2).sum(2))\n",
    "        white_score = (white_dist < 0.3).mean()\n",
    "        if (mask_tile == 0).mean() >= 0.3 or white_score > 0.3:\n",
    "            continue\n",
    "        unq, cnt = np.unique(mask_tile, return_counts = True)\n",
    "        cnt = cnt / TILE_SIZE / TILE_SIZE\n",
    "        if unq[0] == 0:\n",
    "            cnt = cnt[1:]\n",
    "            unq = unq[1:]\n",
    "        well_presented = unq[cnt > 0.05]\n",
    "        clazz = np.max(unq) - 1\n",
    "        counters[clazz] += 1\n",
    "        cv2.imwrite(str(OUT_DIR / f'{image_id[:8]}_{y}_{x}_{LEVEL}_{clazz}.png'),tile[...,::-1])\n",
    "#         plt.imshow(tile)\n",
    "#         plt.title(sum(counters))\n",
    "#         plt.show()\n",
    "#         plt.imshow(mask_tile)\n",
    "#         plt.show()\n",
    "#         if sum(counters) > 200:\n",
    "#             break\n",
    "    slide.close()\n",
    "    mask.close()\n",
    "    break"
   ]
  },
  {
   "cell_type": "code",
   "execution_count": null,
   "metadata": {},
   "outputs": [],
   "source": [
    "!tar -czf Class_LVL1_256_rad_panda.tar.gz Class_LVL1_256_rad_panda"
   ]
  },
  {
   "cell_type": "code",
   "execution_count": 14,
   "metadata": {},
   "outputs": [
    {
     "name": "stdout",
     "output_type": "stream",
     "text": [
      "2.3M\t./.ipynb_checkpoints\n",
      "21G\t./Class_LVL1_256_rad_panda\n",
      "122G\t./Class_LVL0_256_rad_panda\n",
      "196K\t./ForPres/.ipynb_checkpoints\n",
      "52M\t./ForPres\n",
      "8.0K\t./palette/PANDA/.ipynb_checkpoints\n",
      "9.2M\t./palette/PANDA/selected_4_per_class_kar\n",
      "6.1M\t./palette/PANDA/palette\n",
      "16M\t./palette/PANDA\n",
      "22M\t./palette\n",
      "273M\t./cbir_ds/4\n",
      "234M\t./cbir_ds/45\n",
      "39M\t./cbir_ds/5\n",
      "33M\t./cbir_ds/54\n",
      "578M\t./cbir_ds\n",
      "265M\t./cbir_norm_ds/4\n",
      "229M\t./cbir_norm_ds/45\n",
      "38M\t./cbir_norm_ds/5\n",
      "32M\t./cbir_norm_ds/54\n",
      "562M\t./cbir_norm_ds\n",
      "273M\t./tile_dataset_v2/kar/4\n",
      "466M\t./tile_dataset_v2/kar/3\n",
      "39M\t./tile_dataset_v2/kar/5\n",
      "658M\t./tile_dataset_v2/kar/0\n",
      "1.5G\t./tile_dataset_v2/kar\n",
      "355M\t./tile_dataset_v2/rad/4\n",
      "357M\t./tile_dataset_v2/rad/3\n",
      "242M\t./tile_dataset_v2/rad/5\n",
      "624M\t./tile_dataset_v2/rad/0\n",
      "1.6G\t./tile_dataset_v2/rad\n",
      "3.0G\t./tile_dataset_v2\n",
      "180M\t./5_added\n",
      "1.1G\t./selected\n",
      "169G\t.\n",
      "21G\tClass_LVL1_256_rad_panda.tar.gz\n"
     ]
    }
   ],
   "source": [
    "!du -h\n",
    "!du -h Class_LVL1_256_rad_panda.tar.gz"
   ]
  },
  {
   "cell_type": "code",
   "execution_count": 12,
   "metadata": {},
   "outputs": [
    {
     "data": {
      "text/plain": [
       "array([ 3215., 31007., 28268., 62233., 23111.])"
      ]
     },
     "execution_count": 12,
     "metadata": {},
     "output_type": "execute_result"
    }
   ],
   "source": [
    "counters"
   ]
  },
  {
   "cell_type": "code",
   "execution_count": 13,
   "metadata": {},
   "outputs": [
    {
     "data": {
      "text/plain": [
       "147834.0"
      ]
     },
     "execution_count": 13,
     "metadata": {},
     "output_type": "execute_result"
    }
   ],
   "source": [
    "counters.sum()"
   ]
  },
  {
   "cell_type": "markdown",
   "metadata": {},
   "source": [
    "### Count classes"
   ]
  },
  {
   "cell_type": "code",
   "execution_count": 12,
   "metadata": {},
   "outputs": [
    {
     "name": "stderr",
     "output_type": "stream",
     "text": [
      "147834it [00:00, 280232.16it/s]"
     ]
    },
    {
     "name": "stdout",
     "output_type": "stream",
     "text": [
      "147834 - 3215 (2%), 31007 (20%), 28268 (19%), 62233 (42%), 23111 (15%)\n"
     ]
    },
    {
     "name": "stderr",
     "output_type": "stream",
     "text": [
      "\n"
     ]
    }
   ],
   "source": [
    "counter = np.zeros(5)\n",
    "for f in tqdm(OUT_DIR.iterdir()):\n",
    "    counter[int(str(f)[-5])] += 1\n",
    "print(f'{int(counter.sum())} - ' + ', '.join(f'{int(c)} ({int(p*100)}%)' for c,p in zip(counter, counter / counter.sum())))"
   ]
  },
  {
   "cell_type": "markdown",
   "metadata": {},
   "source": [
    "### Prepare dataframe with info"
   ]
  },
  {
   "cell_type": "code",
   "execution_count": null,
   "metadata": {},
   "outputs": [],
   "source": []
  },
  {
   "cell_type": "code",
   "execution_count": null,
   "metadata": {
    "scrolled": false
   },
   "outputs": [
    {
     "name": "stderr",
     "output_type": "stream",
     "text": [
      "  0%|          | 2526/994087 [00:07<51:53, 318.52it/s]"
     ]
    }
   ],
   "source": [
    "all_info = []\n",
    "filenames = sorted(os.listdir(OUT_DIR))\n",
    "df_rad['image_id_short'] = df_rad['image_id'].str[:8]\n",
    "\n",
    "cur_mask = None\n",
    "cur_short_id = None\n",
    "\n",
    "for f in tqdm(filenames):\n",
    "    split = f.split('_')\n",
    "    id_ = split[0]\n",
    "    y,x,level = int(split[1]), int(split[2]), int(split[3])\n",
    "    \n",
    "    if cur_short_id != id_:\n",
    "        cur_short_id = id_\n",
    "        if cur_mask is not None:\n",
    "            cur_mask.close()        \n",
    "        row = df_rad.loc[df_rad['image_id_short'] == id_].iloc[0]\n",
    "        cur_mask = OpenSlide(str(MASK_DIR / (row['image_id'] + '_mask.tiff')))\n",
    "        \n",
    "    mask = cur_mask.read_region((x,y), level, (TILE_SIZE, TILE_SIZE))\n",
    "    mask= np.array(mask)[...,0]\n",
    "    rl = roll(mask,64,64).max((2,3))[1:3,1:3]\n",
    "    conf = 1.0 * np.all(rl == rl[0][0])\n",
    "    unq, cnt = np.unique(mask, return_counts = True)\n",
    "    cnt = cnt / cnt.sum()\n",
    "    info = np.zeros(4)\n",
    "    info[unq[unq > 1] - 2] = cnt[unq > 1]\n",
    "    info = [f, row['isup_grade'], row['gleason1'], row['gleason2']] + list(info) + [conf]\n",
    "    all_info.append(info)\n",
    "cur_mask.close()"
   ]
  },
  {
   "cell_type": "code",
   "execution_count": null,
   "metadata": {},
   "outputs": [],
   "source": [
    "res_df = pd.DataFrame(columns={'filename':str, 'isup_grade': int, 'gleason1': int, 'gleason2': int, 'epi':float,'3':float,'4':float,'5':float, 'conf':float}, data=all_info)\n",
    "res_df.head()"
   ]
  },
  {
   "cell_type": "code",
   "execution_count": null,
   "metadata": {},
   "outputs": [],
   "source": [
    "arr = res_df.loc()[:,'epi':].to_numpy()"
   ]
  },
  {
   "cell_type": "code",
   "execution_count": null,
   "metadata": {},
   "outputs": [],
   "source": [
    "for i in range(4):\n",
    "    iarr = arr[:, i]\n",
    "    plt.hist(iarr[iarr > 0.01], bins=100,alpha=0.3, label = res_df.columns[1+i])\n",
    "    szs = [len(iarr), (iarr > 0).sum(), (iarr > 0.005).sum(), (iarr > 0.01).sum(), (iarr > 0.02).sum()]\n",
    "    print(' '.join(f'{s:.2f}' for s in np.array(szs) / len(iarr)))\n",
    "plt.legend()\n",
    "plt.show()"
   ]
  },
  {
   "cell_type": "code",
   "execution_count": null,
   "metadata": {},
   "outputs": [],
   "source": [
    "t = 0.01\n",
    "counter = (arr > t).sum(0)\n",
    "print(f'{len(arr)} - ' + ', '.join(f'{int(c)} ({int(np.round(p*100))}%)' for c,p in zip(counter, counter / len(arr))))\n",
    "print(((arr < t).sum(1) == 4).sum())\n",
    "print(((arr < t).sum(1) == 4).sum()/ len(arr))"
   ]
  },
  {
   "cell_type": "code",
   "execution_count": null,
   "metadata": {},
   "outputs": [],
   "source": [
    "res_df.to_csv(str(OUT_DIR) + '.csv')"
   ]
  },
  {
   "cell_type": "markdown",
   "metadata": {},
   "source": [
    "## Add data for norm"
   ]
  },
  {
   "cell_type": "code",
   "execution_count": 15,
   "metadata": {},
   "outputs": [
    {
     "name": "stdout",
     "output_type": "stream",
     "text": [
      "32939\n",
      "(922, 6)\n"
     ]
    }
   ],
   "source": [
    "to_add = int(counter[1:].mean() - counter[0])\n",
    "print(to_add)\n",
    "\n",
    "df_rad = df[df['data_provider'] == 'radboud']\n",
    "df_rad = df_rad[df_rad['isup_grade'] == 0]\n",
    "print(df_rad.shape)\n",
    "\n",
    "per_slide = to_add // len(df_rad)\n",
    "\n",
    "OUT_DIR = Path(f'Class_LVL{LEVEL}_{TILE_SIZE}_rad_panda_Addon')\n",
    "OUT_DIR.mkdir(exist_ok=True)"
   ]
  },
  {
   "cell_type": "code",
   "execution_count": null,
   "metadata": {
    "scrolled": false
   },
   "outputs": [
    {
     "name": "stderr",
     "output_type": "stream",
     "text": [
      " 97%|█████████▋| 897/922 [05:56<00:11,  2.27it/s]"
     ]
    }
   ],
   "source": [
    "counters = np.zeros(5)\n",
    "for i, row in tqdm(df_rad.iterrows(), total=len(df_rad)):\n",
    "    image_id = row['image_id']\n",
    "    slide = OpenSlide(str(IMG_DIR / (image_id + '.tiff')))\n",
    "    mask = OpenSlide(str(MASK_DIR / (image_id + '_mask.tiff')))\n",
    "    dim = mask.level_dimensions[LEVEL] # x y\n",
    "    ds = int(mask.level_downsamples[LEVEL])\n",
    "    n_tiles = (\n",
    "        (dim[0] + STEP - TILE_SIZE) // STEP,\n",
    "        (dim[1] + STEP - TILE_SIZE) // STEP\n",
    "    )\n",
    "    \n",
    "    ts_l = int(TILE_SIZE * ds / mask.level_downsamples[2])\n",
    "    st_l = int(STEP * ds / mask.level_downsamples[2])\n",
    "    mask_thumb = np.array(mask.read_region((0,0),2,mask.level_dimensions[2]))[...,0]\n",
    "    \n",
    "    excluded = roll(mask_thumb == 0,ts_l, st_l).mean(axis=(2,3))\n",
    "    rows, cols = np.where(excluded < 0.3)\n",
    "    ids = list(range(len(rows)))\n",
    "    np.random.shuffle(ids)\n",
    "    ids = ids[:per_slide]\n",
    "    for rr,cc in zip(rows, cols):\n",
    "        x = cc * STEP * ds\n",
    "        y = rr * STEP * ds\n",
    "        tile = np.array(slide.read_region((x,y), LEVEL, (TILE_SIZE, TILE_SIZE)))[...,:3]\n",
    "        mask_tile = np.array(mask.read_region((x,y), LEVEL, (TILE_SIZE, TILE_SIZE)))[...,0]\n",
    "        white_dist = np.sqrt(((1 - tile / 255) ** 2).sum(2))\n",
    "        white_score = (white_dist < 0.3).mean()\n",
    "        if (mask_tile == 0).mean() >= 0.3 or white_score > 0.3:\n",
    "            continue\n",
    "        unq, cnt = np.unique(mask_tile, return_counts = True)\n",
    "        cnt = cnt / TILE_SIZE / TILE_SIZE\n",
    "        if unq[0] == 0:\n",
    "            cnt = cnt[1:]\n",
    "            unq = unq[1:]\n",
    "        well_presented = unq[cnt > 0.05]\n",
    "        clazz = np.max(unq) - 1\n",
    "        counters[clazz] += 1\n",
    "#         cv2.imwrite(str(OUT_DIR / f'{image_id[:8]}_{y}_{x}_{LEVEL}_{clazz}.png'),tile[...,::-1])\n",
    "#         plt.imshow(tile)\n",
    "#         plt.title(clazz)\n",
    "#         plt.show()\n",
    "#         plt.imshow(mask_tile)\n",
    "#         plt.show()\n",
    "#         if sum(counters) > 200:\n",
    "#             break\n",
    "    slide.close()\n",
    "    mask.close()"
   ]
  },
  {
   "cell_type": "code",
   "execution_count": 26,
   "metadata": {},
   "outputs": [
    {
     "data": {
      "text/plain": [
       "array([0.02484578, 0.25998363, 0.17794284, 0.39174745, 0.1454803 ])"
      ]
     },
     "execution_count": 26,
     "metadata": {},
     "output_type": "execute_result"
    }
   ],
   "source": [
    "tmp = counters + counter\n",
    "tmp / tmp.sum()"
   ]
  }
 ],
 "metadata": {
  "kernelspec": {
   "display_name": "Python 3",
   "language": "python",
   "name": "python3"
  },
  "language_info": {
   "codemirror_mode": {
    "name": "ipython",
    "version": 3
   },
   "file_extension": ".py",
   "mimetype": "text/x-python",
   "name": "python",
   "nbconvert_exporter": "python",
   "pygments_lexer": "ipython3",
   "version": "3.7.7"
  }
 },
 "nbformat": 4,
 "nbformat_minor": 4
}
