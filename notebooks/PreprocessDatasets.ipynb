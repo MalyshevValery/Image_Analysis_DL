{
 "cells": [
  {
   "cell_type": "code",
   "execution_count": 1,
   "metadata": {},
   "outputs": [],
   "source": [
    "import cv2\n",
    "import numpy as np\n",
    "import os\n",
    "import matplotlib.pyplot as plt\n",
    "from tqdm import tqdm"
   ]
  },
  {
   "cell_type": "markdown",
   "metadata": {},
   "source": [
    "## Montgomery\n",
    "1. Merge masks\n",
    "2. Remove black borders\n",
    "3. Resize to 256x256\n",
    "4. Equalize hist and [1,99] percintile\n",
    "5. Save\n",
    "\n",
    "## Other datasets:\n",
    "Same but without 1"
   ]
  },
  {
   "cell_type": "code",
   "execution_count": 2,
   "metadata": {},
   "outputs": [],
   "source": [
    "def scale_uint(img):\n",
    "    img = np.asarray(img,dtype=np.float) * 255 / np.max(img)\n",
    "    img = img.astype(np.uint8)\n",
    "    return img"
   ]
  },
  {
   "cell_type": "code",
   "execution_count": 5,
   "metadata": {},
   "outputs": [],
   "source": [
    "input_img = '../OriginalData/Montgomery/Images/'\n",
    "#input_mask = '../OriginalData/Shenzen/mask/'\n",
    "mask_suffix = '_mask.png'\n",
    "input_left = '../OriginalData/Montgomery/ManualMask/leftMask/'\n",
    "input_right = '../OriginalData/Montgomery/ManualMask/rightMask/'\n",
    "output_img = '../Data/Images/'\n",
    "output_mask = '../Data/Masks/'\n",
    "output_masked = '../Data/Masked/'\n",
    "\n",
    "img_names = os.listdir(input_img)\n",
    "dist_size=(256,256)"
   ]
  },
  {
   "cell_type": "code",
   "execution_count": 6,
   "metadata": {
    "scrolled": false
   },
   "outputs": [
    {
     "name": "stderr",
     "output_type": "stream",
     "text": [
      "100%|██████████| 138/138 [00:52<00:00,  2.62it/s]\n"
     ]
    }
   ],
   "source": [
    "for filename in tqdm(img_names):\n",
    "    img = cv2.imread(os.path.join(input_img,filename),cv2.IMREAD_GRAYSCALE)\n",
    "    img = scale_uint(img)\n",
    "    \n",
    "    #1 merge masks\n",
    "    left_mask = cv2.imread(os.path.join(input_left,filename),cv2.IMREAD_GRAYSCALE)\n",
    "    left_mask = left_mask > 0\n",
    "    right_mask = cv2.imread(os.path.join(input_right,filename),cv2.IMREAD_GRAYSCALE)\n",
    "    right_mask = right_mask > 0\n",
    "    mask = left_mask | right_mask\n",
    "    #mask = cv2.imread(os.path.join(input_mask,filename[:-4] + mask_suffix),cv2.IMREAD_GRAYSCALE)\n",
    "    if mask is None:\n",
    "        continue\n",
    "    else:\n",
    "        mask = mask > 0\n",
    "    \n",
    "    #2 Remove black borders\n",
    "    y,x = np.nonzero(img)\n",
    "    y_0, y_1 = y.min(), y.max()\n",
    "    x_0, x_1 = x.min(), x.max()\n",
    "    img = img[y_0:y_1+1,x_0:x_1+1]\n",
    "    mask = mask[y_0:y_1+1,x_0:x_1+1].astype(float)\n",
    "    \n",
    "    #3 Resize\n",
    "    img = cv2.resize(img,dist_size,cv2.INTER_AREA)\n",
    "    mask = cv2.resize(mask,dist_size,cv2.INTER_AREA) > 0.5\n",
    "    \n",
    "    #4 Equalize hist\n",
    "    a,b = np.percentile(img,[1,99])\n",
    "    img = np.clip(img,a,b)\n",
    "    img = scale_uint(img)\n",
    "    img = cv2.equalizeHist(img)\n",
    "    \n",
    "    #5 Save\n",
    "    masked = np.stack([img]*3,axis=2)\n",
    "    masked[mask,2] = 0\n",
    "    \n",
    "    cv2.imwrite(os.path.join(output_img,filename),img)\n",
    "    cv2.imwrite(os.path.join(output_mask,filename),mask.astype(np.uint8) * 255)\n",
    "    cv2.imwrite(os.path.join(output_masked,filename),masked)"
   ]
  }
 ],
 "metadata": {
  "kernelspec": {
   "display_name": "Python 3",
   "language": "python",
   "name": "python3"
  },
  "language_info": {
   "codemirror_mode": {
    "name": "ipython",
    "version": 3
   },
   "file_extension": ".py",
   "mimetype": "text/x-python",
   "name": "python",
   "nbconvert_exporter": "python",
   "pygments_lexer": "ipython3",
   "version": "3.6.8"
  }
 },
 "nbformat": 4,
 "nbformat_minor": 2
}
